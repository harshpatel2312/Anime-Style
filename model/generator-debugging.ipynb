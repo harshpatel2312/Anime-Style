{
 "cells": [
  {
   "cell_type": "code",
   "execution_count": 1,
   "id": "f82f2ffc-93c2-4566-9fc5-9f89ee61e881",
   "metadata": {},
   "outputs": [
    {
     "name": "stdout",
     "output_type": "stream",
     "text": [
      "Output shape: torch.Size([1, 3, 512, 512])\n",
      "Output range: -0.8976529836654663 to 0.9357464909553528\n"
     ]
    }
   ],
   "source": [
    "import torch\n",
    "import matplotlib.pyplot as plt\n",
    "from generator import Generator  # adjust the path if needed\n",
    "from torchvision.transforms.functional import to_pil_image\n",
    "\n",
    "# 1. Create a dummy input: batch size 1, 3 channels, 512x512\n",
    "dummy_input = torch.randn(1, 3, 512, 512)\n",
    "\n",
    "# 2. Initialize the generator\n",
    "gen = Generator()\n",
    "\n",
    "# 3. Set to eval mode (optional, disables dropout/batchnorm randomness)\n",
    "gen.eval()\n",
    "\n",
    "# 4. Run the dummy image through the generator\n",
    "with torch.no_grad():\n",
    "    output = gen(dummy_input)\n",
    "\n",
    "print(\"Output shape:\", output.shape)\n",
    "print(\"Output range:\", output.min().item(), \"to\", output.max().item())\n",
    "\n",
    "# 5. Convert output to image (denormalize from [-1, 1] to [0, 1])\n",
    "img_tensor = (output[0] + 1) / 2  # remove batch, rescale\n",
    "\n",
    "# 6. Convert to PIL and show\n",
    "img_pil = to_pil_image(img_tensor.clamp(0, 1))  # ensure range is valid\n",
    "img_pil.show()\n"
   ]
  },
  {
   "cell_type": "code",
   "execution_count": null,
   "id": "802a0e7b-4b1e-49ea-905c-928c34f54f59",
   "metadata": {},
   "outputs": [],
   "source": []
  }
 ],
 "metadata": {
  "kernelspec": {
   "display_name": "Python 3 (ipykernel)",
   "language": "python",
   "name": "python3"
  },
  "language_info": {
   "codemirror_mode": {
    "name": "ipython",
    "version": 3
   },
   "file_extension": ".py",
   "mimetype": "text/x-python",
   "name": "python",
   "nbconvert_exporter": "python",
   "pygments_lexer": "ipython3",
   "version": "3.12.4"
  }
 },
 "nbformat": 4,
 "nbformat_minor": 5
}
