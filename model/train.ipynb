{
 "cells": [
  {
   "cell_type": "code",
   "execution_count": 2,
   "id": "28656f23-2e8a-4f16-9f45-24976abeb93e",
   "metadata": {},
   "outputs": [],
   "source": [
    "from dataloader import get_dataloader"
   ]
  },
  {
   "cell_type": "code",
   "execution_count": 4,
   "id": "a3c17c6a-813b-4d44-97d2-3c7dd8aa4aa1",
   "metadata": {},
   "outputs": [],
   "source": [
    "# Paths to data folders\n",
    "anime_train = \"../data/anime/train/\"\n",
    "real_train = \"../data/real/train/\""
   ]
  },
  {
   "cell_type": "code",
   "execution_count": 6,
   "id": "fb0079d1-3e4a-427f-906f-7e6a6a15ab8e",
   "metadata": {},
   "outputs": [],
   "source": [
    "anime_train_loader, real_train_loader = get_dataloader(anime_train, real_train)"
   ]
  }
 ],
 "metadata": {
  "kernelspec": {
   "display_name": "Python 3 (ipykernel)",
   "language": "python",
   "name": "python3"
  },
  "language_info": {
   "codemirror_mode": {
    "name": "ipython",
    "version": 3
   },
   "file_extension": ".py",
   "mimetype": "text/x-python",
   "name": "python",
   "nbconvert_exporter": "python",
   "pygments_lexer": "ipython3",
   "version": "3.12.4"
  }
 },
 "nbformat": 4,
 "nbformat_minor": 5
}
